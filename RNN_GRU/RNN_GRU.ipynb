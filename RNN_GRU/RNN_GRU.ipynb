{
 "cells": [
  {
   "cell_type": "markdown",
   "metadata": {},
   "source": [
    "# GRU"
   ]
  },
  {
   "cell_type": "markdown",
   "metadata": {},
   "source": [
    "GRU에 대한 기본적인 아이디어는 LSTM과 매우 비슷하다."
   ]
  },
  {
   "cell_type": "markdown",
   "metadata": {},
   "source": [
    "<img src=\"./RNN_GRU_images/1.png\" width=500 />"
   ]
  },
  {
   "cell_type": "markdown",
   "metadata": {},
   "source": [
    "GRU는 Reset 게이트 r 과 Update 게이트 z로 구성되어있다. <br />\n",
    "Reset게이트는 새로운 입력을 이전 메모리와 어떻게 합칠지를 정해주고 <br />\n",
    "Update게이트는 이전 메모리를 얼만큼 기억할지를 정해준다.<br />\n",
    "만약 모든 Reset게이트 r=1, Update게이트 z=0 로 설정한다면 이는 기본적인 RNN 구조이다."
   ]
  },
  {
   "cell_type": "markdown",
   "metadata": {},
   "source": [
    "LSTM과의 차이점을 위주로 GRU의 특징을 살펴보면\n",
    "- GRU는 게이트가 2개이고, LSTM은 3개 입니다.\n",
    "- GRU는 내부 메모리 값(c(t))이 외부에서 보게되는 Hidden state 값과 다르지 않습니다. LSTM에 있는 출력 게이트가 없기 때문입니다. \n",
    "- Input 게이트와 Forget 게이트가 Update 게이트 z로 합쳐졌고, Reset게이트 r은 이전 Hidden state 값에 바로 적용 됩니다. <br />\n",
    "따라서 LSTM의 Forget 게이트 역할이 r과 z에 나누어졌다고 볼 수 있습니다. \n",
    "- 출력값을 계산할 때 추가적인 비선형 함수를 적용하지 않습니다. "
   ]
  },
  {
   "cell_type": "markdown",
   "metadata": {},
   "source": [
    "<img src=\"./RNN_GRU_images/2.png\" width=500 />"
   ]
  },
  {
   "cell_type": "markdown",
   "metadata": {},
   "source": [
    "더 작은 파라미터를 가지고 연산을 할 수 있으므로 LSTM보다 구현이 쉽고 빠르며 메모리를 적게 소모한다."
   ]
  },
  {
   "cell_type": "code",
   "execution_count": null,
   "metadata": {
    "collapsed": true
   },
   "outputs": [],
   "source": []
  }
 ],
 "metadata": {
  "kernelspec": {
   "display_name": "Python 3",
   "language": "python",
   "name": "python3"
  },
  "language_info": {
   "codemirror_mode": {
    "name": "ipython",
    "version": 3
   },
   "file_extension": ".py",
   "mimetype": "text/x-python",
   "name": "python",
   "nbconvert_exporter": "python",
   "pygments_lexer": "ipython3",
   "version": "3.6.1"
  }
 },
 "nbformat": 4,
 "nbformat_minor": 2
}
